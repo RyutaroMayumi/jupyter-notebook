{
 "cells": [
  {
   "cell_type": "code",
   "execution_count": 1,
   "metadata": {
    "collapsed": true
   },
   "outputs": [],
   "source": [
    "%matplotlib inline"
   ]
  },
  {
   "cell_type": "code",
   "execution_count": 2,
   "metadata": {
    "collapsed": true
   },
   "outputs": [],
   "source": [
    "# importing modules\n",
    "import sys\n",
    "import os\n",
    "import time\n",
    "import numpy as np\n",
    "import matplotlib.pyplot as plt\n",
    "\n",
    "try:\n",
    "    import cv2\n",
    "except ImportError:\n",
    "    import PIL"
   ]
  },
  {
   "cell_type": "code",
   "execution_count": 3,
   "metadata": {
    "collapsed": true
   },
   "outputs": [],
   "source": [
    "# generate output image (ver.1/full pixel search)\n",
    "def test1(base_img, overlay_img):\n",
    "    \n",
    "    dst_img = base_img.copy()\n",
    "    for y in range(len(overlay_img)):\n",
    "        for x in range(len(overlay_img[y])):\n",
    "            if (overlay_img[y,x] == [0,0,0]).all():\n",
    "                continue\n",
    "            else:\n",
    "                dst_img[y,x] = overlay_img[y,x]\n",
    "    return dst_img"
   ]
  },
  {
   "cell_type": "code",
   "execution_count": 4,
   "metadata": {
    "collapsed": true
   },
   "outputs": [],
   "source": [
    "# generate output image (ver.2/binary filtering)\n",
    "def test2(base_img, overlay_img):\n",
    "    \n",
    "    bool_img = overlay_img==[0,0,0]\n",
    "    bool_img = bool_img[:,:,0] & bool_img[:,:,1] & bool_img[:,:,2]\n",
    "    dst_img = base_img.copy()\n",
    "    for y in range(len(bool_img)):\n",
    "        for x in range(len(bool_img[y])):\n",
    "            if bool_img[y,x]:\n",
    "                continue\n",
    "            else:\n",
    "                dst_img[y,x] = overlay_img[y,x]\n",
    "    return dst_img"
   ]
  },
  {
   "cell_type": "code",
   "execution_count": 5,
   "metadata": {
    "collapsed": true
   },
   "outputs": [],
   "source": [
    "# generate output image (ver.3/binary filtering + no explicit loop)\n",
    "def test3(base_img, overlay_img):\n",
    "    \n",
    "    bool_img = overlay_img==[0,0,0]\n",
    "    bool_img = bool_img[:,:,0] & bool_img[:,:,1] & bool_img[:,:,2]\n",
    "    dst_img = base_img.copy()\n",
    "    dst_img[bool_img==False] = [0,0,0]\n",
    "    dst_img = dst_img + overlay_img\n",
    "    return dst_img"
   ]
  },
  {
   "cell_type": "code",
   "execution_count": 6,
   "metadata": {
    "collapsed": true
   },
   "outputs": [],
   "source": [
    "# settings\n",
    "iteration = 100\n",
    "base_file = './segmented_image_00280_base.png'\n",
    "overlay_file = './segmented_image_00280_overlay.png'"
   ]
  },
  {
   "cell_type": "code",
   "execution_count": 7,
   "metadata": {
    "collapsed": false
   },
   "outputs": [],
   "source": [
    "# read images\n",
    "if 'cv2' in sys.modules:\n",
    "    # using cv2\n",
    "    base_img = cv2.imread(base_file)\n",
    "    overlay_img = cv2.imread(overlay_file)\n",
    "elif 'PIL' in sys.modules:\n",
    "    # using PIL\n",
    "    base_img = np.asarray(PIL.Image.open(base_file).convert('RGB'))\n",
    "    overlay_img = np.asarray(PIL.Image.open(overlay_file).convert('RGB'))\n",
    "else:\n",
    "    print(\"Any image processing libraries aren't imported.\")\n",
    "    sys.exit()"
   ]
  },
  {
   "cell_type": "code",
   "execution_count": 8,
   "metadata": {
    "collapsed": false
   },
   "outputs": [
    {
     "data": {
      "text/plain": [
       "<matplotlib.image.AxesImage at 0x9052908>"
      ]
     },
     "execution_count": 8,
     "metadata": {},
     "output_type": "execute_result"
    },
    {
     "data": {
      "image/png": "[encoded data removed]",
      "text/plain": [
       "<matplotlib.figure.Figure at 0x85dd5c0>"
      ]
     },
     "metadata": {},
     "output_type": "display_data"
    }
   ],
   "source": [
    "# base image\n",
    "plt.imshow(base_img[:,:,::-1].copy())"
   ]
  },
  {
   "cell_type": "code",
   "execution_count": 9,
   "metadata": {
    "collapsed": false
   },
   "outputs": [
    {
     "data": {
      "text/plain": [
       "<matplotlib.image.AxesImage at 0x867ce10>"
      ]
     },
     "execution_count": 9,
     "metadata": {},
     "output_type": "execute_result"
    },
    {
     "data": {
      "image/png": "[encoded data removed]",
      "text/plain": [
       "<matplotlib.figure.Figure at 0x4bc73c8>"
      ]
     },
     "metadata": {},
     "output_type": "display_data"
    }
   ],
   "source": [
    "# overlay image\n",
    "plt.imshow(overlay_img[:,:,::-1].copy())"
   ]
  },
  {
   "cell_type": "code",
   "execution_count": 10,
   "metadata": {
    "collapsed": false
   },
   "outputs": [
    {
     "data": {
      "text/plain": [
       "<matplotlib.image.AxesImage at 0x8721ba8>"
      ]
     },
     "execution_count": 10,
     "metadata": {},
     "output_type": "execute_result"
    },
    {
     "data": {
      "image/png": "[encoded data removed]",
      "text/plain": [
       "<matplotlib.figure.Figure at 0x8694668>"
      ]
     },
     "metadata": {},
     "output_type": "display_data"
    }
   ],
   "source": [
    "# composed image\n",
    "dst_img = test3(base_img, overlay_img)\n",
    "plt.imshow(dst_img[:,:,::-1].copy())"
   ]
  },
  {
   "cell_type": "code",
   "execution_count": 11,
   "metadata": {
    "collapsed": false
   },
   "outputs": [
    {
     "name": "stdout",
     "output_type": "stream",
     "text": [
      "processed 100 iteration in 577.970 [sec], 5.780 [sec] per once.\n"
     ]
    }
   ],
   "source": [
    "# test1\n",
    "t_test1 = 0.0\n",
    "for i in range(iteration):\n",
    "    \n",
    "    start = time.time()\n",
    "    _ = test1(base_img, overlay_img)\n",
    "    end = time.time()\n",
    "    t_test1 += end - start\n",
    "    \n",
    "print(\"processed %d iteration in %.03f [sec], %0.3f [sec] per once.\"%(iteration, t_test1, t_test1/iteration))"
   ]
  },
  {
   "cell_type": "code",
   "execution_count": 12,
   "metadata": {
    "collapsed": false
   },
   "outputs": [
    {
     "name": "stdout",
     "output_type": "stream",
     "text": [
      "processed 100 iteration in 26.198 [sec], 0.262 [sec] per once.\n"
     ]
    }
   ],
   "source": [
    "# test2\n",
    "t_test2 = 0.0\n",
    "for i in range(iteration):\n",
    "    \n",
    "    start = time.time()\n",
    "    _ = test2(base_img, overlay_img)\n",
    "    end = time.time()\n",
    "    t_test2 += end - start\n",
    "    \n",
    "print(\"processed %d iteration in %.03f [sec], %0.3f [sec] per once.\"%(iteration, t_test2, t_test2/iteration))"
   ]
  },
  {
   "cell_type": "code",
   "execution_count": 13,
   "metadata": {
    "collapsed": false
   },
   "outputs": [
    {
     "name": "stdout",
     "output_type": "stream",
     "text": [
      "processed 100 iteration in 2.453 [sec], 0.025 [sec] per once.\n"
     ]
    }
   ],
   "source": [
    "# test3\n",
    "t_test3 = 0.0\n",
    "for i in range(iteration):\n",
    "    \n",
    "    start = time.time()\n",
    "    _ = test3(base_img, overlay_img)\n",
    "    end = time.time()\n",
    "    t_test3 += end - start\n",
    "    \n",
    "print(\"processed %d iteration in %.03f [sec], %0.3f [sec] per once.\"%(iteration, t_test3, t_test3/iteration))"
   ]
  },
  {
   "cell_type": "code",
   "execution_count": 16,
   "metadata": {
    "collapsed": false
   },
   "outputs": [
    {
     "name": "stdout",
     "output_type": "stream",
     "text": [
      "test2 is 22.1x faster than test1.\n",
      "test3 is 10.7x faster than test2.\n",
      "test3 is 235.6x faster than test1.\n"
     ]
    }
   ],
   "source": [
    "print('test2 is %0.1fx faster than test1.'%(t_test1/t_test2))\n",
    "print('test3 is %0.1fx faster than test2.'%(t_test2/t_test3))\n",
    "print('test3 is %0.1fx faster than test1.'%(t_test1/t_test3))"
   ]
  },
  {
   "cell_type": "code",
   "execution_count": null,
   "metadata": {
    "collapsed": true
   },
   "outputs": [],
   "source": []
  }
 ],
 "metadata": {
  "kernelspec": {
   "display_name": "Python 3",
   "language": "python",
   "name": "python3"
  },
  "language_info": {
   "codemirror_mode": {
    "name": "ipython",
    "version": 3
   },
   "file_extension": ".py",
   "mimetype": "text/x-python",
   "name": "python",
   "nbconvert_exporter": "python",
   "pygments_lexer": "ipython3",
   "version": "3.6.0"
  }
 },
 "nbformat": 4,
 "nbformat_minor": 2
}
